{
 "cells": [
  {
   "cell_type": "markdown",
   "id": "4fea5493-cbbf-4181-8d75-b4dd4af2d72e",
   "metadata": {},
   "source": [
    "### local dev/testing"
   ]
  },
  {
   "cell_type": "markdown",
   "id": "e0c5cfaa-1156-4f7b-a0ea-39f55faaf2b8",
   "metadata": {},
   "source": [
    "#SUDO Code\n",
    "\n",
    "1. establish db connection\n",
    "2. check db if previous players & match data exist\n",
    " - if so import data to establish season\n",
    " - if not: create and save \n",
    "3. run engine "
   ]
  },
  {
   "cell_type": "code",
   "execution_count": 51,
   "id": "fc1a70e7-2128-4509-9809-f0103d4412b6",
   "metadata": {},
   "outputs": [],
   "source": [
    "#these would be env vars recieved from the pod.yaml\n",
    "USER = 'root'          \n",
    "PASSWORD = 'my-secret-pw'  \n",
    "DB='SSPDB'\n",
    "HOST = 'localhost'"
   ]
  },
  {
   "cell_type": "code",
   "execution_count": 2,
   "id": "b7d67e03-1245-4c66-9029-cbeb187173a3",
   "metadata": {},
   "outputs": [],
   "source": [
    "import logging\n",
    "from sqlalchemy import create_engine\n",
    "import pandas as pd\n",
    "import synthSportPlayer"
   ]
  },
  {
   "cell_type": "code",
   "execution_count": 3,
   "id": "9eec3462-3f29-4311-a567-ce296b167797",
   "metadata": {},
   "outputs": [],
   "source": [
    "#connect to DB\n",
    "logging.info('Establishing connection to database')\n",
    "engine = create_engine(\"mysql+pymysql://{user}:{pw}@{host}/{db}\".format(host=HOST, db=DB, user=USER, pw=PASSWORD))"
   ]
  },
  {
   "cell_type": "code",
   "execution_count": 4,
   "id": "110b911b-50d8-4151-a700-6c87da909bf6",
   "metadata": {},
   "outputs": [
    {
     "data": {
      "text/html": [
       "<div>\n",
       "<style scoped>\n",
       "    .dataframe tbody tr th:only-of-type {\n",
       "        vertical-align: middle;\n",
       "    }\n",
       "\n",
       "    .dataframe tbody tr th {\n",
       "        vertical-align: top;\n",
       "    }\n",
       "\n",
       "    .dataframe thead th {\n",
       "        text-align: right;\n",
       "    }\n",
       "</style>\n",
       "<table border=\"1\" class=\"dataframe\">\n",
       "  <thead>\n",
       "    <tr style=\"text-align: right;\">\n",
       "      <th></th>\n",
       "      <th>Tables_in_SSPDB</th>\n",
       "    </tr>\n",
       "  </thead>\n",
       "  <tbody>\n",
       "    <tr>\n",
       "      <th>0</th>\n",
       "      <td>PLAYER_DATA</td>\n",
       "    </tr>\n",
       "  </tbody>\n",
       "</table>\n",
       "</div>"
      ],
      "text/plain": [
       "  Tables_in_SSPDB\n",
       "0     PLAYER_DATA"
      ]
     },
     "metadata": {},
     "output_type": "display_data"
    }
   ],
   "source": [
    "#get table with table names\n",
    "df = pd.read_sql('SHOW TABLES', con=engine)\n",
    "display(df)"
   ]
  },
  {
   "cell_type": "code",
   "execution_count": 5,
   "id": "a5332914-e654-444e-9229-0a1ac47e4fe5",
   "metadata": {},
   "outputs": [],
   "source": [
    "df = pd.read_sql('SHOW TABLES', con=engine)\n",
    "if 'PLAYER_DATA' in df['Tables_in_SSPDB'].values:\n",
    "    logging.info('Table already exists')\n",
    "    df2 = pd.read_sql('SELECT * FROM PLAYER_DATA', con=engine)\n",
    "    pl=[]\n",
    "    for i in df2.index:\n",
    "        p=synthSportPlayer.player(int(df2.loc[i]['skill']),int(df2.loc[i]['variance']),df2.loc[i]['name'],int(df2.loc[i]['pointLimit']))\n",
    "        p.totalPoints=int(df2.loc[i]['totalPoints'])\n",
    "        if df2.loc[i]['pointRec']!='':\n",
    "            p.pointRec=list(map(int,df2.loc[i]['pointRec'].split(':')))\n",
    "        pl.append(p)\n",
    "    logging.info(\"Players re-constructed\")\n",
    "    \n",
    "else:\n",
    "    logging.info(\"Creating Table\")\n",
    "    engine.execute(\"\"\"\n",
    "    CREATE TABLE PLAYER_DATA (\n",
    "    id INT AUTO_INCREMENT PRIMARY KEY, \n",
    "    name VARCHAR(255), \n",
    "    skill INT(10), \n",
    "    variance INT(10),\n",
    "    pointRec VARCHAR(255),\n",
    "    totalPoints INT(10),\n",
    "    pointLimit INT(10))\"\"\")\n",
    "    \n",
    "    logging.info(\"Table created. Creating Players.\")\n",
    "    pl,tab = synthSportPlayer.generatePlayers(32)\n",
    "    tab2=tab.copy()\n",
    "    tab2.sort_index(inplace=True)\n",
    "    tab2.drop('week_-1',axis=1,inplace=True)\n",
    "    tab2[\"pointRec\"]=''\n",
    "    tab2[\"totalPoints\"]=0\n",
    "    tab2[\"pointLimit\"]=10\n",
    "    tab2.to_sql(\"PLAYER_DATA\",engine,index=False,if_exists='append')\n",
    "    logging.info(\"Players created\")\n",
    "    "
   ]
  },
  {
   "cell_type": "code",
   "execution_count": 47,
   "id": "74d46e72-3c6b-4ca2-bd4e-32a835e556e9",
   "metadata": {},
   "outputs": [],
   "source": [
    "df = pd.read_sql('SHOW TABLES', con=engine)\n",
    "if 'RANKING_DATA' in df['Tables_in_SSPDB'].values:\n",
    "    logging.info('Table already exists')\n",
    "    df3 = pd.read_sql('SELECT * FROM RANKING_DATA', con=engine)\n",
    "    \n",
    "else:\n",
    "    logging.info(\"Creating Table\")\n",
    "    engine.execute(\"\"\"\n",
    "    CREATE TABLE RANKING_DATA (\n",
    "    rank_id INT AUTO_INCREMENT PRIMARY KEY,\n",
    "    name VARCHAR(255),\n",
    "    points INT(10),\n",
    "    week VARCHAR(255))\n",
    "    \"\"\")\n",
    "    logging.info(\"Table created.\")\n",
    "    "
   ]
  },
  {
   "cell_type": "code",
   "execution_count": 48,
   "id": "5e3982c2-dc07-41c8-af46-0863d46f3bca",
   "metadata": {},
   "outputs": [
    {
     "data": {
      "text/html": [
       "<div>\n",
       "<style scoped>\n",
       "    .dataframe tbody tr th:only-of-type {\n",
       "        vertical-align: middle;\n",
       "    }\n",
       "\n",
       "    .dataframe tbody tr th {\n",
       "        vertical-align: top;\n",
       "    }\n",
       "\n",
       "    .dataframe thead th {\n",
       "        text-align: right;\n",
       "    }\n",
       "</style>\n",
       "<table border=\"1\" class=\"dataframe\">\n",
       "  <thead>\n",
       "    <tr style=\"text-align: right;\">\n",
       "      <th></th>\n",
       "      <th>Tables_in_SSPDB</th>\n",
       "    </tr>\n",
       "  </thead>\n",
       "  <tbody>\n",
       "    <tr>\n",
       "      <th>0</th>\n",
       "      <td>PLAYER_DATA</td>\n",
       "    </tr>\n",
       "    <tr>\n",
       "      <th>1</th>\n",
       "      <td>RANKING_DATA</td>\n",
       "    </tr>\n",
       "  </tbody>\n",
       "</table>\n",
       "</div>"
      ],
      "text/plain": [
       "  Tables_in_SSPDB\n",
       "0     PLAYER_DATA\n",
       "1    RANKING_DATA"
      ]
     },
     "execution_count": 48,
     "metadata": {},
     "output_type": "execute_result"
    }
   ],
   "source": [
    "pd.read_sql('SHOW TABLES', con=engine)"
   ]
  },
  {
   "cell_type": "code",
   "execution_count": 6,
   "id": "5a06bebb-d29a-48c0-8d69-e66ce83e7fab",
   "metadata": {},
   "outputs": [],
   "source": [
    "ls=synthSportPlayer.liveSeason(numPlayers=len(pl),players=pl)"
   ]
  },
  {
   "cell_type": "code",
   "execution_count": 7,
   "id": "8ca8bb2b-c6ba-4d8d-a3b6-4a0ba6963bec",
   "metadata": {},
   "outputs": [
    {
     "data": {
      "text/html": [
       "<div>\n",
       "<style scoped>\n",
       "    .dataframe tbody tr th:only-of-type {\n",
       "        vertical-align: middle;\n",
       "    }\n",
       "\n",
       "    .dataframe tbody tr th {\n",
       "        vertical-align: top;\n",
       "    }\n",
       "\n",
       "    .dataframe thead th {\n",
       "        text-align: right;\n",
       "    }\n",
       "</style>\n",
       "<table border=\"1\" class=\"dataframe\">\n",
       "  <thead>\n",
       "    <tr style=\"text-align: right;\">\n",
       "      <th></th>\n",
       "      <th>name</th>\n",
       "      <th>skill</th>\n",
       "      <th>variance</th>\n",
       "      <th>week_-1</th>\n",
       "    </tr>\n",
       "  </thead>\n",
       "  <tbody>\n",
       "    <tr>\n",
       "      <th>4</th>\n",
       "      <td>4</td>\n",
       "      <td>94</td>\n",
       "      <td>10</td>\n",
       "      <td>0</td>\n",
       "    </tr>\n",
       "    <tr>\n",
       "      <th>12</th>\n",
       "      <td>12</td>\n",
       "      <td>89</td>\n",
       "      <td>10</td>\n",
       "      <td>0</td>\n",
       "    </tr>\n",
       "    <tr>\n",
       "      <th>0</th>\n",
       "      <td>0</td>\n",
       "      <td>87</td>\n",
       "      <td>10</td>\n",
       "      <td>0</td>\n",
       "    </tr>\n",
       "    <tr>\n",
       "      <th>10</th>\n",
       "      <td>10</td>\n",
       "      <td>81</td>\n",
       "      <td>10</td>\n",
       "      <td>0</td>\n",
       "    </tr>\n",
       "    <tr>\n",
       "      <th>8</th>\n",
       "      <td>8</td>\n",
       "      <td>71</td>\n",
       "      <td>10</td>\n",
       "      <td>0</td>\n",
       "    </tr>\n",
       "    <tr>\n",
       "      <th>14</th>\n",
       "      <td>14</td>\n",
       "      <td>68</td>\n",
       "      <td>10</td>\n",
       "      <td>0</td>\n",
       "    </tr>\n",
       "    <tr>\n",
       "      <th>5</th>\n",
       "      <td>5</td>\n",
       "      <td>67</td>\n",
       "      <td>10</td>\n",
       "      <td>0</td>\n",
       "    </tr>\n",
       "    <tr>\n",
       "      <th>11</th>\n",
       "      <td>11</td>\n",
       "      <td>56</td>\n",
       "      <td>10</td>\n",
       "      <td>0</td>\n",
       "    </tr>\n",
       "    <tr>\n",
       "      <th>9</th>\n",
       "      <td>9</td>\n",
       "      <td>54</td>\n",
       "      <td>10</td>\n",
       "      <td>0</td>\n",
       "    </tr>\n",
       "    <tr>\n",
       "      <th>6</th>\n",
       "      <td>6</td>\n",
       "      <td>52</td>\n",
       "      <td>10</td>\n",
       "      <td>0</td>\n",
       "    </tr>\n",
       "    <tr>\n",
       "      <th>1</th>\n",
       "      <td>1</td>\n",
       "      <td>48</td>\n",
       "      <td>10</td>\n",
       "      <td>0</td>\n",
       "    </tr>\n",
       "    <tr>\n",
       "      <th>3</th>\n",
       "      <td>3</td>\n",
       "      <td>21</td>\n",
       "      <td>10</td>\n",
       "      <td>0</td>\n",
       "    </tr>\n",
       "    <tr>\n",
       "      <th>2</th>\n",
       "      <td>2</td>\n",
       "      <td>10</td>\n",
       "      <td>10</td>\n",
       "      <td>0</td>\n",
       "    </tr>\n",
       "    <tr>\n",
       "      <th>13</th>\n",
       "      <td>13</td>\n",
       "      <td>5</td>\n",
       "      <td>10</td>\n",
       "      <td>0</td>\n",
       "    </tr>\n",
       "    <tr>\n",
       "      <th>7</th>\n",
       "      <td>7</td>\n",
       "      <td>3</td>\n",
       "      <td>10</td>\n",
       "      <td>0</td>\n",
       "    </tr>\n",
       "    <tr>\n",
       "      <th>15</th>\n",
       "      <td>15</td>\n",
       "      <td>3</td>\n",
       "      <td>10</td>\n",
       "      <td>0</td>\n",
       "    </tr>\n",
       "  </tbody>\n",
       "</table>\n",
       "</div>"
      ],
      "text/plain": [
       "   name  skill  variance  week_-1\n",
       "4     4     94        10        0\n",
       "12   12     89        10        0\n",
       "0     0     87        10        0\n",
       "10   10     81        10        0\n",
       "8     8     71        10        0\n",
       "14   14     68        10        0\n",
       "5     5     67        10        0\n",
       "11   11     56        10        0\n",
       "9     9     54        10        0\n",
       "6     6     52        10        0\n",
       "1     1     48        10        0\n",
       "3     3     21        10        0\n",
       "2     2     10        10        0\n",
       "13   13      5        10        0\n",
       "7     7      3        10        0\n",
       "15   15      3        10        0"
      ]
     },
     "execution_count": 7,
     "metadata": {},
     "output_type": "execute_result"
    }
   ],
   "source": [
    "ls.playerSum"
   ]
  },
  {
   "cell_type": "code",
   "execution_count": 22,
   "id": "56ac8198-b7e5-45cd-8cf2-9c3a9457431d",
   "metadata": {},
   "outputs": [
    {
     "data": {
      "text/plain": [
       "False"
      ]
     },
     "execution_count": 22,
     "metadata": {},
     "output_type": "execute_result"
    }
   ],
   "source": [
    "ls.playSeason()"
   ]
  },
  {
   "cell_type": "code",
   "execution_count": 23,
   "id": "bf394f58-a9ad-46bf-96d7-4e1bd9c826b3",
   "metadata": {},
   "outputs": [
    {
     "data": {
      "text/plain": [
       "[[1, 1, '0', 0, 83, '3', 0, 13, '0'],\n",
       " [1, 2, '2', 0, 17, '1', 0, 46, '1'],\n",
       " [1, 3, '14', 0, 59, '9', 0, 32, '14'],\n",
       " [1, 4, '4', 0, 110, '10', 0, 70, '4'],\n",
       " [1, 5, '7', 0, 0, '13', 0, 15, '13'],\n",
       " [1, 6, '6', 0, 48, '8', 0, 76, '8'],\n",
       " [1, 7, '11', 0, 35, '15', 0, 7, '11'],\n",
       " [1, 8, '12', 0, 95, '5', 0, 56, '12'],\n",
       " [2, 1, '0', 0, 95, '1', 0, 41, '0'],\n",
       " [2, 2, '14', 0, 53, '4', 0, 88, '4'],\n",
       " [2, 3, '13', 0, 0, '8', 0, 81, '8'],\n",
       " [2, 4, '11', 0, 46, '12', 0, 107, '12'],\n",
       " [3, 1, '0', 0, 75, '4', 0, 110, '4'],\n",
       " [3, 2, '8', 0, 67, '12', 0, 87, '12'],\n",
       " [4, 1, '4', 0, 97, '12', 0, 80, '4']]"
      ]
     },
     "execution_count": 23,
     "metadata": {},
     "output_type": "execute_result"
    }
   ],
   "source": [
    "ls.currentTourn.matchRec"
   ]
  },
  {
   "cell_type": "code",
   "execution_count": 26,
   "id": "811b7d00-a924-468a-a18f-71fc0b96dd79",
   "metadata": {},
   "outputs": [
    {
     "data": {
      "text/plain": [
       "True"
      ]
     },
     "execution_count": 26,
     "metadata": {},
     "output_type": "execute_result"
    }
   ],
   "source": [
    "ls.currentTournComplete"
   ]
  },
  {
   "cell_type": "code",
   "execution_count": 38,
   "id": "6dace13c-8e0b-4f16-8a4c-14f3eaa49f39",
   "metadata": {},
   "outputs": [],
   "source": [
    "tab=ls.playerSum.iloc[:,[0,-1]].copy()\n",
    "tab['week']=tab.columns[-1]\n",
    "tab.rename(columns={tab.columns[-2]: \"points\"},inplace=True)\n",
    "tab.to_sql(\"RANKING_DATA\",engine,index=False,if_exists='append')"
   ]
  },
  {
   "cell_type": "code",
   "execution_count": 50,
   "id": "661d7afe-0b88-4d44-bf9a-938f0c639694",
   "metadata": {},
   "outputs": [
    {
     "data": {
      "text/html": [
       "<div>\n",
       "<style scoped>\n",
       "    .dataframe tbody tr th:only-of-type {\n",
       "        vertical-align: middle;\n",
       "    }\n",
       "\n",
       "    .dataframe tbody tr th {\n",
       "        vertical-align: top;\n",
       "    }\n",
       "\n",
       "    .dataframe thead th {\n",
       "        text-align: right;\n",
       "    }\n",
       "</style>\n",
       "<table border=\"1\" class=\"dataframe\">\n",
       "  <thead>\n",
       "    <tr style=\"text-align: right;\">\n",
       "      <th></th>\n",
       "      <th>rank_id</th>\n",
       "      <th>name</th>\n",
       "      <th>points</th>\n",
       "      <th>week</th>\n",
       "    </tr>\n",
       "  </thead>\n",
       "  <tbody>\n",
       "    <tr>\n",
       "      <th>0</th>\n",
       "      <td>1</td>\n",
       "      <td>4</td>\n",
       "      <td>25</td>\n",
       "      <td>week_0</td>\n",
       "    </tr>\n",
       "    <tr>\n",
       "      <th>1</th>\n",
       "      <td>2</td>\n",
       "      <td>12</td>\n",
       "      <td>20</td>\n",
       "      <td>week_0</td>\n",
       "    </tr>\n",
       "    <tr>\n",
       "      <th>2</th>\n",
       "      <td>3</td>\n",
       "      <td>0</td>\n",
       "      <td>15</td>\n",
       "      <td>week_0</td>\n",
       "    </tr>\n",
       "    <tr>\n",
       "      <th>3</th>\n",
       "      <td>4</td>\n",
       "      <td>10</td>\n",
       "      <td>5</td>\n",
       "      <td>week_0</td>\n",
       "    </tr>\n",
       "    <tr>\n",
       "      <th>4</th>\n",
       "      <td>5</td>\n",
       "      <td>8</td>\n",
       "      <td>15</td>\n",
       "      <td>week_0</td>\n",
       "    </tr>\n",
       "    <tr>\n",
       "      <th>5</th>\n",
       "      <td>6</td>\n",
       "      <td>14</td>\n",
       "      <td>10</td>\n",
       "      <td>week_0</td>\n",
       "    </tr>\n",
       "    <tr>\n",
       "      <th>6</th>\n",
       "      <td>7</td>\n",
       "      <td>5</td>\n",
       "      <td>5</td>\n",
       "      <td>week_0</td>\n",
       "    </tr>\n",
       "    <tr>\n",
       "      <th>7</th>\n",
       "      <td>8</td>\n",
       "      <td>11</td>\n",
       "      <td>10</td>\n",
       "      <td>week_0</td>\n",
       "    </tr>\n",
       "    <tr>\n",
       "      <th>8</th>\n",
       "      <td>9</td>\n",
       "      <td>9</td>\n",
       "      <td>5</td>\n",
       "      <td>week_0</td>\n",
       "    </tr>\n",
       "    <tr>\n",
       "      <th>9</th>\n",
       "      <td>10</td>\n",
       "      <td>6</td>\n",
       "      <td>5</td>\n",
       "      <td>week_0</td>\n",
       "    </tr>\n",
       "    <tr>\n",
       "      <th>10</th>\n",
       "      <td>11</td>\n",
       "      <td>1</td>\n",
       "      <td>10</td>\n",
       "      <td>week_0</td>\n",
       "    </tr>\n",
       "    <tr>\n",
       "      <th>11</th>\n",
       "      <td>12</td>\n",
       "      <td>3</td>\n",
       "      <td>5</td>\n",
       "      <td>week_0</td>\n",
       "    </tr>\n",
       "    <tr>\n",
       "      <th>12</th>\n",
       "      <td>13</td>\n",
       "      <td>2</td>\n",
       "      <td>5</td>\n",
       "      <td>week_0</td>\n",
       "    </tr>\n",
       "    <tr>\n",
       "      <th>13</th>\n",
       "      <td>14</td>\n",
       "      <td>13</td>\n",
       "      <td>10</td>\n",
       "      <td>week_0</td>\n",
       "    </tr>\n",
       "    <tr>\n",
       "      <th>14</th>\n",
       "      <td>15</td>\n",
       "      <td>7</td>\n",
       "      <td>5</td>\n",
       "      <td>week_0</td>\n",
       "    </tr>\n",
       "    <tr>\n",
       "      <th>15</th>\n",
       "      <td>16</td>\n",
       "      <td>15</td>\n",
       "      <td>5</td>\n",
       "      <td>week_0</td>\n",
       "    </tr>\n",
       "  </tbody>\n",
       "</table>\n",
       "</div>"
      ],
      "text/plain": [
       "    rank_id name  points    week\n",
       "0         1    4      25  week_0\n",
       "1         2   12      20  week_0\n",
       "2         3    0      15  week_0\n",
       "3         4   10       5  week_0\n",
       "4         5    8      15  week_0\n",
       "5         6   14      10  week_0\n",
       "6         7    5       5  week_0\n",
       "7         8   11      10  week_0\n",
       "8         9    9       5  week_0\n",
       "9        10    6       5  week_0\n",
       "10       11    1      10  week_0\n",
       "11       12    3       5  week_0\n",
       "12       13    2       5  week_0\n",
       "13       14   13      10  week_0\n",
       "14       15    7       5  week_0\n",
       "15       16   15       5  week_0"
      ]
     },
     "execution_count": 50,
     "metadata": {},
     "output_type": "execute_result"
    }
   ],
   "source": [
    "df3 = pd.read_sql('SELECT * FROM RANKING_DATA', con=engine)\n",
    "df3"
   ]
  },
  {
   "cell_type": "code",
   "execution_count": null,
   "id": "d6f3cad3-debf-450a-bd77-417d4c454877",
   "metadata": {},
   "outputs": [],
   "source": [
    "columns=[\"Round\", \"Match\",\n",
    "        \"player1_id\",\"player1_rnkPoints\",\"player1_perform\",\n",
    "        \"player2_id\",\"player2_rnkPoints\",\"player2_perform\",\"winner_id\"]"
   ]
  },
  {
   "cell_type": "code",
   "execution_count": null,
   "id": "1fcc3523-e1d4-46f7-a800-4e8ac9c4e152",
   "metadata": {},
   "outputs": [],
   "source": []
  },
  {
   "cell_type": "markdown",
   "id": "f5d9ee20-dde1-4764-a91f-0bdd42e195c1",
   "metadata": {},
   "source": [
    "## reference codes"
   ]
  },
  {
   "cell_type": "code",
   "execution_count": null,
   "id": "fe608588-d81e-4a82-9896-eb3b234364c0",
   "metadata": {},
   "outputs": [],
   "source": [
    "# js = ':'.join(map(str,[10,12]))  # joins list of int into one str\n",
    "# list(map(int,js.split(':')))     # splits list of join int str to list of int"
   ]
  },
  {
   "cell_type": "code",
   "execution_count": null,
   "id": "a08d432c-d9ba-405c-8b1c-2e5b23b2ac56",
   "metadata": {},
   "outputs": [],
   "source": [
    "# engine.execute(\"DROP TABLE PLAYER_DATA\") # TO DROP TABLE"
   ]
  },
  {
   "cell_type": "code",
   "execution_count": 21,
   "id": "773fc520-d3ca-433e-a1bf-e9faefb72f42",
   "metadata": {},
   "outputs": [],
   "source": [
    "# os.environ['API_USER'] = 'username'\n",
    "# os.environ['API_PASSWORD'] = 'secret'"
   ]
  },
  {
   "cell_type": "code",
   "execution_count": null,
   "id": "32d1d276-f5fa-4f71-b01d-93d4cc7d1d05",
   "metadata": {},
   "outputs": [],
   "source": [
    "## To hit the api\n",
    "# import requests\n",
    "\n",
    "# # HOST = os.getenv('HOST')                #insert from pod def, should be 'sspengine'\n",
    "# HOST='localhost'\n",
    "# url = 'http://{host}:2001/progress'.format(host=HOST)\n",
    "# headers = {'content-type': 'application/json', 'Accept-Charset': 'UTF-8'}\n",
    "\n",
    "# r = requests.put(url, headers=headers)\n"
   ]
  },
  {
   "cell_type": "code",
   "execution_count": null,
   "id": "21377bfb-79b4-4300-9a6b-2a917446ed6c",
   "metadata": {},
   "outputs": [],
   "source": []
  }
 ],
 "metadata": {
  "kernelspec": {
   "display_name": "Python 3",
   "language": "python",
   "name": "python3"
  },
  "language_info": {
   "codemirror_mode": {
    "name": "ipython",
    "version": 3
   },
   "file_extension": ".py",
   "mimetype": "text/x-python",
   "name": "python",
   "nbconvert_exporter": "python",
   "pygments_lexer": "ipython3",
   "version": "3.8.8"
  }
 },
 "nbformat": 4,
 "nbformat_minor": 5
}
