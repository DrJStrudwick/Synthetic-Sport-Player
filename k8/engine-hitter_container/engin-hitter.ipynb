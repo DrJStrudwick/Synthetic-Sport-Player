{
 "cells": [
  {
   "cell_type": "code",
   "execution_count": 3,
   "id": "80967e87-5317-4630-ab9e-1195f47332fa",
   "metadata": {},
   "outputs": [
    {
     "name": "stdout",
     "output_type": "stream",
     "text": [
      "Writing requirements.txt\n"
     ]
    }
   ],
   "source": [
    "%%writefile requirements.txt\n",
    "requests"
   ]
  },
  {
   "cell_type": "code",
   "execution_count": 5,
   "id": "073d1c71-56ff-4d80-ba9e-e2c35e1ff16f",
   "metadata": {},
   "outputs": [
    {
     "name": "stdout",
     "output_type": "stream",
     "text": [
      "Overwriting app.py\n"
     ]
    }
   ],
   "source": [
    "%%writefile app.py\n",
    "import os\n",
    "import requests                                                              #imports\n",
    "\n",
    "HOST = os.getenv('HOST')                                                     #insert from pod def, should be 'sspengine'\n",
    "url = 'http://{host}:2001/progress'.format(host=HOST)                        #create url to request too\n",
    "headers = {'content-type': 'application/json', 'Accept-Charset': 'UTF-8'}    #setup headers\n",
    "\n",
    "r = requests.put(url, headers=headers)                                       #make request"
   ]
  },
  {
   "cell_type": "code",
   "execution_count": 4,
   "id": "cd416598-7747-47f1-b744-6fd98d7c60fe",
   "metadata": {},
   "outputs": [
    {
     "name": "stdout",
     "output_type": "stream",
     "text": [
      "Writing Dockerfile\n"
     ]
    }
   ],
   "source": [
    "%%writefile Dockerfile\n",
    "FROM python:3.8.3\n",
    "WORKDIR code/\n",
    "COPY requirements.txt .\n",
    "RUN pip3 -q install pip --upgrade\n",
    "RUN pip install -r requirements.txt\n",
    "COPY app.py .\n",
    "CMD [\"python\", \"app.py\"]\n"
   ]
  },
  {
   "cell_type": "code",
   "execution_count": null,
   "id": "5865677c-c7e4-4684-a323-78bc5590f709",
   "metadata": {},
   "outputs": [],
   "source": []
  }
 ],
 "metadata": {
  "kernelspec": {
   "display_name": "Python 3",
   "language": "python",
   "name": "python3"
  },
  "language_info": {
   "codemirror_mode": {
    "name": "ipython",
    "version": 3
   },
   "file_extension": ".py",
   "mimetype": "text/x-python",
   "name": "python",
   "nbconvert_exporter": "python",
   "pygments_lexer": "ipython3",
   "version": "3.8.8"
  }
 },
 "nbformat": 4,
 "nbformat_minor": 5
}
