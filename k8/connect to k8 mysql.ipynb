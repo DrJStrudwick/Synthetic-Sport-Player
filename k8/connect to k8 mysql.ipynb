{
 "cells": [
  {
   "cell_type": "markdown",
   "id": "f3ccdccf-19a9-4648-bcfe-cda711986e76",
   "metadata": {},
   "source": [
    "# Note:\n",
    "\n",
    "need to bring down `db-network-policy` for people to be able to access and create svc defined in `db-svc-np.yaml`"
   ]
  },
  {
   "cell_type": "code",
   "execution_count": 2,
   "id": "3ff5b7f3-72f7-4506-bc38-8382e5b6d0ec",
   "metadata": {},
   "outputs": [
    {
     "data": {
      "text/html": [
       "<div>\n",
       "<style scoped>\n",
       "    .dataframe tbody tr th:only-of-type {\n",
       "        vertical-align: middle;\n",
       "    }\n",
       "\n",
       "    .dataframe tbody tr th {\n",
       "        vertical-align: top;\n",
       "    }\n",
       "\n",
       "    .dataframe thead th {\n",
       "        text-align: right;\n",
       "    }\n",
       "</style>\n",
       "<table border=\"1\" class=\"dataframe\">\n",
       "  <thead>\n",
       "    <tr style=\"text-align: right;\">\n",
       "      <th></th>\n",
       "      <th>Tables_in_SSPDB</th>\n",
       "    </tr>\n",
       "  </thead>\n",
       "  <tbody>\n",
       "  </tbody>\n",
       "</table>\n",
       "</div>"
      ],
      "text/plain": [
       "Empty DataFrame\n",
       "Columns: [Tables_in_SSPDB]\n",
       "Index: []"
      ]
     },
     "execution_count": 2,
     "metadata": {},
     "output_type": "execute_result"
    }
   ],
   "source": [
    "#Imports\n",
    "from sqlalchemy import create_engine\n",
    "import pandas as pd\n",
    "\n",
    "#these would be env vars recieved from the pod.yaml\n",
    "USER = 'root'          \n",
    "PASSWORD = 'sspprjroot'  \n",
    "DB='SSPDB'\n",
    "HOST = '192.168.1.40:30029'\n",
    "\n",
    "#create db connection\n",
    "engine = create_engine(\"mysql+pymysql://{user}:{pw}@{host}/{db}\".format(host=HOST, db=DB, user=USER, pw=PASSWORD),pool_timeout=90)\n",
    "\n",
    "#get table\n",
    "df = pd.read_sql('SHOW TABLES', con=engine)\n",
    "\n",
    "#show table\n",
    "df"
   ]
  },
  {
   "cell_type": "code",
   "execution_count": null,
   "id": "18167cbe-720c-46ca-8fb2-8a4971709832",
   "metadata": {},
   "outputs": [],
   "source": []
  }
 ],
 "metadata": {
  "kernelspec": {
   "display_name": "Python 3",
   "language": "python",
   "name": "python3"
  },
  "language_info": {
   "codemirror_mode": {
    "name": "ipython",
    "version": 3
   },
   "file_extension": ".py",
   "mimetype": "text/x-python",
   "name": "python",
   "nbconvert_exporter": "python",
   "pygments_lexer": "ipython3",
   "version": "3.8.8"
  }
 },
 "nbformat": 4,
 "nbformat_minor": 5
}
