{
 "cells": [
  {
   "cell_type": "markdown",
   "metadata": {},
   "source": [
    "For dash board interface!\n",
    "\n",
    " - needs to call data from the DB\n",
    " - then needs to grap data in appropriate format"
   ]
  },
  {
   "cell_type": "code",
   "execution_count": 1,
   "metadata": {},
   "outputs": [
    {
     "name": "stdout",
     "output_type": "stream",
     "text": [
      "Writing requirements.txt\n"
     ]
    }
   ],
   "source": [
    "%%writefile requirements.txt\n",
    "dash\n",
    "plotly\n",
    "pandas\n",
    "\n",
    "sqlalchemy\n",
    "cryptography\n",
    "pymysql"
   ]
  },
  {
   "cell_type": "code",
   "execution_count": 10,
   "metadata": {},
   "outputs": [
    {
     "name": "stdout",
     "output_type": "stream",
     "text": [
      "Writing ../app.py\n"
     ]
    }
   ],
   "source": [
    "%%writefile ../app.py \n",
    "import dash\n",
    "import dash_core_components as dcc\n",
    "import dash_html_components as html\n",
    "import dash_table as dt\n",
    "from dash.dependencies import Input, Output\n",
    "\n",
    "import plotly.express as px\n",
    "import pandas as pd\n",
    "\n",
    "import os\n",
    "from sqlalchemy import create_engine\n",
    "\n",
    "\n",
    "roundGap=10\n",
    "ls=liveSeason()\n",
    "\n",
    "\n",
    "external_stylesheets = ['https://codepen.io/chriddyp/pen/bWLwgP.css']\n",
    "\n",
    "app = dash.Dash(__name__, external_stylesheets=external_stylesheets)\n",
    "\n",
    "app.layout = html.Div([\n",
    "    html.H1(id='timeRemaining', children=''),\n",
    "    dcc.Interval(id='match-interval',interval=roundGap*1000,n_intervals=0),\n",
    "    dcc.Interval(id='countdown-interval',interval = 1*1000,n_intervals=0),\n",
    "    html.Div(className='row', children=[\n",
    "        html.Div(dt.DataTable(id='latestPoints'),className='two columns'),\n",
    "        html.Div(dcc.Graph(id='graph-of-rankings'),className='ten columns')\n",
    "    ]),\n",
    "    html.H1(id='resultsHeader', children='Latest Results:'),\n",
    "    dt.DataTable(id='latestResults')\n",
    "])\n",
    "\n",
    "@app.callback(Output('timeRemaining', 'children'),\n",
    "              Input('countdown-interval', 'n_intervals'))\n",
    "def countdownUpdate(n):\n",
    "    return 'Time until next round: '+str(roundGap-(n%roundGap))+'s'\n",
    "\n",
    "\n",
    "@app.callback(\n",
    "    [Output('latestResults','columns'),\n",
    "    Output('latestResults','data')],\n",
    "    Input('match-interval','n_intervals'),\n",
    "    prevent_initial_call=True\n",
    ")\n",
    "def nextStep(n):\n",
    "    ls.playSeason()\n",
    "    columnNames=[\"Round\", \"Match\",\"player1_id\",\"player1_rnkPoints\",\"player1_perform\",\"player2_id\",\"player2_rnkPoints\",\"player2_perform\",\"winner_id\"]\n",
    "    res = pd.DataFrame(ls.currentTourn.matchRec, columns=columnNames)\n",
    "    res = res[res['Round']==max(res['Round'])].to_dict('records')\n",
    "    columnNames = [{'name': col, 'id': col} for col in columnNames]\n",
    "    return columnNames, res\n",
    "\n",
    "@app.callback(\n",
    "    Output('graph-of-rankings','figure'),\n",
    "    Input('match-interval','n_intervals'),\n",
    "    prevent_initial_call=True)\n",
    "def plotRankings(n):\n",
    "    if ls.currentTournComplete:\n",
    "        fig = px.line(ls.playerSum.set_index(\"name\").T[2:],labels={\n",
    "                     \"index\": \"Tournament\",\n",
    "                     \"value\": \"Ranking points\",\n",
    "                     \"name\": \"Player\"\n",
    "                 })\n",
    "        return fig\n",
    "    else:\n",
    "        return dash.no_update\n",
    "    \n",
    "@app.callback(\n",
    "    [Output('latestPoints','columns'),\n",
    "    Output('latestPoints','data')],\n",
    "    Input('graph-of-rankings','figure'),\n",
    "    prevent_initial_call=True)\n",
    "def rankingTableUpdate(n):\n",
    "    df = ls.playerSum.iloc[:,[0,-1]]\n",
    "    df.rename(dict(zip(df.columns,[\"player\",'points'])), axis='columns',inplace=True)\n",
    "    df.sort_values(axis=0,by='points',ascending=False,inplace=True)\n",
    "    columnNames = [{'name': col, 'id': col} for col in df.columns]\n",
    "    return columnNames, df.to_dict('records')\n",
    "\n",
    "\n",
    "if __name__ == '__main__':\n",
    "    # Get environment variables\n",
    "    # These will be inserted from pod def file!\n",
    "    print('Establishing ENV variables')\n",
    "    USER = os.getenv('MYSQL_USER')          #source from srt\n",
    "    PASSWORD = os.getenv('MYSQL_PASSWORD')  #source from srt\n",
    "    DB = os.getenv('MYSQL_DATABASE')        #source from cfmp\n",
    "    HOST = os.getenv('HOST')                #insert from pod def, should be 'mysql'\n",
    "    #-------------------------------------\n",
    "\n",
    "    #establish connection to db\n",
    "    print('Establishing connection to database')\n",
    "    engine = create_engine(\"mysql+pymysql://{user}:{pw}@{host}/{db}\".format(host=HOST, db=DB, user=USER, pw=PASSWORD))\n",
    "    #-------------------------------------\n",
    "    app.run_server(debug=True,port=2004)"
   ]
  },
  {
   "cell_type": "code",
   "execution_count": 3,
   "metadata": {},
   "outputs": [
    {
     "name": "stdout",
     "output_type": "stream",
     "text": [
      "Overwriting Dockerfile\n"
     ]
    }
   ],
   "source": [
    "%%writefile Dockerfile\n",
    "FROM python:3.8.3\n",
    "WORKDIR code/\n",
    "COPY requirements.txt .\n",
    "RUN pip3 -q install pip --upgrade\n",
    "RUN pip install -r requirements.txt\n",
    "COPY app.py .\n",
    "EXPOSE 2004\n",
    "CMD [\"python\", \"app.py\"]\n"
   ]
  },
  {
   "cell_type": "code",
   "execution_count": null,
   "metadata": {},
   "outputs": [],
   "source": []
  },
  {
   "cell_type": "code",
   "execution_count": null,
   "metadata": {},
   "outputs": [],
   "source": []
  }
 ],
 "metadata": {
  "kernelspec": {
   "display_name": "Python 3",
   "language": "python",
   "name": "python3"
  },
  "language_info": {
   "codemirror_mode": {
    "name": "ipython",
    "version": 3
   },
   "file_extension": ".py",
   "mimetype": "text/x-python",
   "name": "python",
   "nbconvert_exporter": "python",
   "pygments_lexer": "ipython3",
   "version": "3.8.8"
  }
 },
 "nbformat": 4,
 "nbformat_minor": 4
}
