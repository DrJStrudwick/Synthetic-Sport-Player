{
 "cells": [
  {
   "cell_type": "code",
   "execution_count": 1,
   "metadata": {},
   "outputs": [
    {
     "name": "stdout",
     "output_type": "stream",
     "text": [
      "Overwriting package/synthSportPlayer/utils.py\n"
     ]
    }
   ],
   "source": [
    "%%writefile package/synthSportPlayer/utils.py\n",
    "import pandas as pd\n",
    "def getPlayerHist(pid,df):\n",
    "    tk1='player1'\n",
    "    tk2='player2'\n",
    "    other = [x for x in list(df.columns) if not(\"_\" in x)]\n",
    "    ext = list(set([y.split('_')[1] for y in [x for x in list(df.columns) if (\"_\" in x)]]))\n",
    "    \n",
    "    pid_df = df[(df[tk1+'_'+ext[0]]==pid)]\n",
    "    pid_df.winner_id=(pid_df[\"winner_id\"]==pid)\n",
    "    pid_df.rename(columns=dict(zip([tk1+\"_\"+x for x in ext]+[tk2+\"_\"+x for x in ext],\n",
    "                                   [\"player_\"+x for x in ext]+[\"opponent_\"+x for x in ext])),inplace=True)\n",
    "\n",
    "    pid2_df = df[(df[tk2+'_'+ext[0]]==pid)]\n",
    "    pid2_df.winner_id=(pid2_df[\"winner_id\"]==pid)\n",
    "    pid2_df.rename(columns=dict(zip([tk2+\"_\"+x for x in ext]+[tk1+\"_\"+x for x in ext],\n",
    "                                    [\"player_\"+x for x in ext]+[\"opponent_\"+x for x in ext])),inplace=True)\n",
    "\n",
    "    pid_df = pd.concat([pid_df,pid2_df])\n",
    "    pid_df.sort_values(by=[\"Tourn\",\"Round\",\"Match\"],ascending=[False,False,True],inplace=True)\n",
    "\n",
    "    return pid_df\n",
    "\n",
    "def getMatchUpData(pid1,pid2,df):\n",
    "    mu_df = df[((df[\"player1_id\"]==pid1)&(df[\"player2_id\"]==pid2)|(df[\"player1_id\"]==pid2)&(df[\"player2_id\"]==pid1))]\n",
    "    mu_df.sort_values(by=[\"Tourn\",\"Round\",\"Match\"],ascending=[False,False,True],inplace=True)\n",
    "    return mu_df"
   ]
  },
  {
   "cell_type": "code",
   "execution_count": 2,
   "metadata": {},
   "outputs": [
    {
     "name": "stdout",
     "output_type": "stream",
     "text": [
      "Overwriting package/synthSportPlayer/liveSport.py\n"
     ]
    }
   ],
   "source": [
    "%%writefile package/synthSportPlayer/liveSport.py\n",
    "from sportplayer import *\n",
    "\n",
    "class liveTourn(tournament):\n",
    "    def __init__(self, playerList,pointPerRound=5):\n",
    "        super().__init__(playerList,pointPerRound)\n",
    "    \n",
    "    def playTourn(self):\n",
    "        \"\"\"\n",
    "        A function to play the entire tournament. When this one is called it will only play the next step\n",
    "        \"\"\"\n",
    "        if len(self.currentRound)>1:\n",
    "            nextRound = self.playRound()\n",
    "            self.currentRound = nextRound\n",
    "            self.round+=1\n",
    "            if len(self.currentRound)==1:\n",
    "                self.currentRound[0].gainPoints(self.round*self.points)\n",
    "                self.tournRes = pd.DataFrame(self.matchRec,columns=[\"Round\", \"Match\",\n",
    "                                                                    \"player1_id\",\"player1_rnkPoints\",\"player1_perform\",\n",
    "                                                                    \"player2_id\",\"player2_rnkPoints\",\"player2_perform\",\"winner_id\"])\n",
    "                return True\n",
    "            else:\n",
    "                return False\n",
    "        else:\n",
    "            return True\n",
    "        \n",
    "class liveSeason(season):\n",
    "    def __init__(self,numPlayers=16,tournToPlay=20, players=None, playerSum=None):\n",
    "        super().__init__(numPlayers=16,tournToPlay=20, players=None, playerSum=None)\n",
    "        shuffle(self.players)\n",
    "        self.currentTourn = liveTourn(self.players)\n",
    "        self.currentTournComplete = False\n",
    "        \n",
    "    def playSeason(self):\n",
    "        \"\"\"\n",
    "        A function to play out the season of tournaments. when it is called it just does one step of the tournament.\n",
    "        \"\"\"\n",
    "        if self.week == self.tournsToPlay:\n",
    "            return True\n",
    "        else:\n",
    "            if self.currentTournComplete:\n",
    "                shuffle(self.players)\n",
    "                self.currentTourn = liveTourn(self.players)\n",
    "\n",
    "            self.currentTournComplete = self.currentTourn.playTourn()\n",
    "            if self.currentTournComplete:\n",
    "                self.gatherPoints()\n",
    "                self.tournRecs.append(self.currentTourn.tournRes)\n",
    "                self.week+=1\n",
    "            return False\n",
    "            "
   ]
  },
  {
   "cell_type": "code",
   "execution_count": 3,
   "metadata": {},
   "outputs": [],
   "source": [
    "%run package/synthSportPlayer/liveSport.py"
   ]
  },
  {
   "cell_type": "code",
   "execution_count": 4,
   "metadata": {},
   "outputs": [],
   "source": [
    "%run package/synthSportPlayer/utils.py"
   ]
  },
  {
   "cell_type": "code",
   "execution_count": 5,
   "metadata": {},
   "outputs": [],
   "source": [
    "import pandas as pd"
   ]
  },
  {
   "cell_type": "code",
   "execution_count": 6,
   "metadata": {},
   "outputs": [],
   "source": [
    "for i in range(0,50):\n",
    "    x=pd.read_csv(\"seasonData/tournament_\"+str(i)+\".csv\")\n",
    "    x['Tourn']=i\n",
    "    if i==0:\n",
    "        df = x\n",
    "    else:\n",
    "        df = pd.concat((df,x))\n",
    "\n",
    "df.sort_values(by=[\"Tourn\",\"Round\",\"Match\"],ascending=[False,False,True],inplace=True)\n",
    "df=df[[list(df.columns)[-1]]+list(df.columns)[0:9]]"
   ]
  },
  {
   "cell_type": "code",
   "execution_count": 7,
   "metadata": {},
   "outputs": [],
   "source": [
    "# other = [x for x in list(df.columns) if not(\"_\" in x)]\n",
    "# ext = list(set([y.split('_')[1] for y in [x for x in list(df.columns) if (\"_\" in x)]]))"
   ]
  },
  {
   "cell_type": "code",
   "execution_count": 8,
   "metadata": {},
   "outputs": [
    {
     "name": "stderr",
     "output_type": "stream",
     "text": [
      "/Users/James.Strudwick@ibm.com/opt/anaconda3/lib/python3.8/site-packages/pandas/core/frame.py:4438: SettingWithCopyWarning: \n",
      "A value is trying to be set on a copy of a slice from a DataFrame\n",
      "\n",
      "See the caveats in the documentation: https://pandas.pydata.org/pandas-docs/stable/user_guide/indexing.html#returning-a-view-versus-a-copy\n",
      "  return super().rename(\n",
      "/Users/James.Strudwick@ibm.com/opt/anaconda3/lib/python3.8/site-packages/pandas/core/generic.py:5491: SettingWithCopyWarning: \n",
      "A value is trying to be set on a copy of a slice from a DataFrame.\n",
      "Try using .loc[row_indexer,col_indexer] = value instead\n",
      "\n",
      "See the caveats in the documentation: https://pandas.pydata.org/pandas-docs/stable/user_guide/indexing.html#returning-a-view-versus-a-copy\n",
      "  self[name] = value\n",
      "/Users/James.Strudwick@ibm.com/opt/anaconda3/lib/python3.8/site-packages/pandas/core/frame.py:4438: SettingWithCopyWarning: \n",
      "A value is trying to be set on a copy of a slice from a DataFrame\n",
      "\n",
      "See the caveats in the documentation: https://pandas.pydata.org/pandas-docs/stable/user_guide/indexing.html#returning-a-view-versus-a-copy\n",
      "  return super().rename(\n"
     ]
    },
    {
     "data": {
      "text/html": [
       "<div>\n",
       "<style scoped>\n",
       "    .dataframe tbody tr th:only-of-type {\n",
       "        vertical-align: middle;\n",
       "    }\n",
       "\n",
       "    .dataframe tbody tr th {\n",
       "        vertical-align: top;\n",
       "    }\n",
       "\n",
       "    .dataframe thead th {\n",
       "        text-align: right;\n",
       "    }\n",
       "</style>\n",
       "<table border=\"1\" class=\"dataframe\">\n",
       "  <thead>\n",
       "    <tr style=\"text-align: right;\">\n",
       "      <th></th>\n",
       "      <th>Tourn</th>\n",
       "      <th>Round</th>\n",
       "      <th>Match</th>\n",
       "      <th>player_id</th>\n",
       "      <th>player_rnkPoints</th>\n",
       "      <th>player_perform</th>\n",
       "      <th>opponent_id</th>\n",
       "      <th>opponent_rnkPoints</th>\n",
       "      <th>opponent_perform</th>\n",
       "      <th>winner_id</th>\n",
       "    </tr>\n",
       "  </thead>\n",
       "  <tbody>\n",
       "    <tr>\n",
       "      <th>7</th>\n",
       "      <td>9</td>\n",
       "      <td>1</td>\n",
       "      <td>8</td>\n",
       "      <td>6</td>\n",
       "      <td>45</td>\n",
       "      <td>1</td>\n",
       "      <td>14</td>\n",
       "      <td>150</td>\n",
       "      <td>96</td>\n",
       "      <td>False</td>\n",
       "    </tr>\n",
       "  </tbody>\n",
       "</table>\n",
       "</div>"
      ],
      "text/plain": [
       "   Tourn  Round  Match  player_id  player_rnkPoints  player_perform  \\\n",
       "7      9      1      8          6                45               1   \n",
       "\n",
       "   opponent_id  opponent_rnkPoints  opponent_perform  winner_id  \n",
       "7           14                 150                96      False  "
      ]
     },
     "execution_count": 8,
     "metadata": {},
     "output_type": "execute_result"
    }
   ],
   "source": [
    "getPlayerHist(1,df).head()"
   ]
  },
  {
   "cell_type": "code",
   "execution_count": 9,
   "metadata": {},
   "outputs": [
    {
     "name": "stderr",
     "output_type": "stream",
     "text": [
      "/Users/James.Strudwick@ibm.com/Documents/Project stuff/Research/Synthetic-Sport-Player/package/synthSportPlayer/utils.py:25: SettingWithCopyWarning: \n",
      "A value is trying to be set on a copy of a slice from a DataFrame\n",
      "\n",
      "See the caveats in the documentation: https://pandas.pydata.org/pandas-docs/stable/user_guide/indexing.html#returning-a-view-versus-a-copy\n",
      "  mu_df.sort_values(by=[\"Tourn\",\"Round\",\"Match\"],ascending=[False,False,True],inplace=True)\n"
     ]
    },
    {
     "data": {
      "text/html": [
       "<div>\n",
       "<style scoped>\n",
       "    .dataframe tbody tr th:only-of-type {\n",
       "        vertical-align: middle;\n",
       "    }\n",
       "\n",
       "    .dataframe tbody tr th {\n",
       "        vertical-align: top;\n",
       "    }\n",
       "\n",
       "    .dataframe thead th {\n",
       "        text-align: right;\n",
       "    }\n",
       "</style>\n",
       "<table border=\"1\" class=\"dataframe\">\n",
       "  <thead>\n",
       "    <tr style=\"text-align: right;\">\n",
       "      <th></th>\n",
       "      <th>Tourn</th>\n",
       "      <th>Round</th>\n",
       "      <th>Match</th>\n",
       "      <th>player1_id</th>\n",
       "      <th>player1_rnkPoints</th>\n",
       "      <th>player1_perform</th>\n",
       "      <th>player2_id</th>\n",
       "      <th>player2_rnkPoints</th>\n",
       "      <th>player2_perform</th>\n",
       "      <th>winner_id</th>\n",
       "    </tr>\n",
       "  </thead>\n",
       "  <tbody>\n",
       "    <tr>\n",
       "      <th>12</th>\n",
       "      <td>31</td>\n",
       "      <td>3</td>\n",
       "      <td>1</td>\n",
       "      <td>1</td>\n",
       "      <td>90</td>\n",
       "      <td>66</td>\n",
       "      <td>2</td>\n",
       "      <td>70</td>\n",
       "      <td>39</td>\n",
       "      <td>1</td>\n",
       "    </tr>\n",
       "    <tr>\n",
       "      <th>8</th>\n",
       "      <td>25</td>\n",
       "      <td>2</td>\n",
       "      <td>1</td>\n",
       "      <td>1</td>\n",
       "      <td>90</td>\n",
       "      <td>87</td>\n",
       "      <td>2</td>\n",
       "      <td>90</td>\n",
       "      <td>45</td>\n",
       "      <td>1</td>\n",
       "    </tr>\n",
       "    <tr>\n",
       "      <th>7</th>\n",
       "      <td>18</td>\n",
       "      <td>1</td>\n",
       "      <td>8</td>\n",
       "      <td>1</td>\n",
       "      <td>110</td>\n",
       "      <td>79</td>\n",
       "      <td>2</td>\n",
       "      <td>95</td>\n",
       "      <td>48</td>\n",
       "      <td>1</td>\n",
       "    </tr>\n",
       "    <tr>\n",
       "      <th>4</th>\n",
       "      <td>14</td>\n",
       "      <td>1</td>\n",
       "      <td>5</td>\n",
       "      <td>1</td>\n",
       "      <td>110</td>\n",
       "      <td>82</td>\n",
       "      <td>2</td>\n",
       "      <td>80</td>\n",
       "      <td>62</td>\n",
       "      <td>1</td>\n",
       "    </tr>\n",
       "    <tr>\n",
       "      <th>3</th>\n",
       "      <td>12</td>\n",
       "      <td>1</td>\n",
       "      <td>4</td>\n",
       "      <td>1</td>\n",
       "      <td>115</td>\n",
       "      <td>82</td>\n",
       "      <td>2</td>\n",
       "      <td>90</td>\n",
       "      <td>62</td>\n",
       "      <td>1</td>\n",
       "    </tr>\n",
       "    <tr>\n",
       "      <th>5</th>\n",
       "      <td>5</td>\n",
       "      <td>1</td>\n",
       "      <td>6</td>\n",
       "      <td>1</td>\n",
       "      <td>65</td>\n",
       "      <td>80</td>\n",
       "      <td>2</td>\n",
       "      <td>50</td>\n",
       "      <td>56</td>\n",
       "      <td>1</td>\n",
       "    </tr>\n",
       "    <tr>\n",
       "      <th>8</th>\n",
       "      <td>3</td>\n",
       "      <td>2</td>\n",
       "      <td>1</td>\n",
       "      <td>2</td>\n",
       "      <td>30</td>\n",
       "      <td>51</td>\n",
       "      <td>1</td>\n",
       "      <td>35</td>\n",
       "      <td>76</td>\n",
       "      <td>1</td>\n",
       "    </tr>\n",
       "  </tbody>\n",
       "</table>\n",
       "</div>"
      ],
      "text/plain": [
       "    Tourn  Round  Match  player1_id  player1_rnkPoints  player1_perform  \\\n",
       "12     31      3      1           1                 90               66   \n",
       "8      25      2      1           1                 90               87   \n",
       "7      18      1      8           1                110               79   \n",
       "4      14      1      5           1                110               82   \n",
       "3      12      1      4           1                115               82   \n",
       "5       5      1      6           1                 65               80   \n",
       "8       3      2      1           2                 30               51   \n",
       "\n",
       "    player2_id  player2_rnkPoints  player2_perform  winner_id  \n",
       "12           2                 70               39          1  \n",
       "8            2                 90               45          1  \n",
       "7            2                 95               48          1  \n",
       "4            2                 80               62          1  \n",
       "3            2                 90               62          1  \n",
       "5            2                 50               56          1  \n",
       "8            1                 35               76          1  "
      ]
     },
     "execution_count": 9,
     "metadata": {},
     "output_type": "execute_result"
    }
   ],
   "source": [
    "getMatchUpData(1,2,df)"
   ]
  },
  {
   "cell_type": "code",
   "execution_count": 10,
   "metadata": {},
   "outputs": [],
   "source": [
    "# pl,_=generatePlayers(16)\n",
    "# lt = liveTourn(pl)"
   ]
  },
  {
   "cell_type": "code",
   "execution_count": 11,
   "metadata": {},
   "outputs": [],
   "source": [
    "# lt.playTourn()"
   ]
  },
  {
   "cell_type": "code",
   "execution_count": 12,
   "metadata": {},
   "outputs": [],
   "source": [
    "# lt.matchRec"
   ]
  },
  {
   "cell_type": "code",
   "execution_count": 13,
   "metadata": {},
   "outputs": [],
   "source": [
    "ls=liveSeason()"
   ]
  },
  {
   "cell_type": "code",
   "execution_count": 14,
   "metadata": {},
   "outputs": [
    {
     "data": {
      "text/plain": [
       "['name', 'variance']"
      ]
     },
     "execution_count": 14,
     "metadata": {},
     "output_type": "execute_result"
    }
   ],
   "source": [
    "[x for x in ls.playerSum.iloc[:,[0,-1]].columns]"
   ]
  },
  {
   "cell_type": "code",
   "execution_count": 15,
   "metadata": {},
   "outputs": [
    {
     "data": {
      "text/plain": [
       "False"
      ]
     },
     "execution_count": 15,
     "metadata": {},
     "output_type": "execute_result"
    }
   ],
   "source": [
    "ls.playSeason()"
   ]
  },
  {
   "cell_type": "code",
   "execution_count": 16,
   "metadata": {},
   "outputs": [
    {
     "data": {
      "text/plain": [
       "[[1, 1, '14', 0, 0, '6', 0, 53, '6'],\n",
       " [1, 2, '15', 0, 62, '8', 0, 65, '8'],\n",
       " [1, 3, '3', 0, 88, '7', 0, 40, '3'],\n",
       " [1, 4, '10', 0, 54, '13', 0, 49, '10'],\n",
       " [1, 5, '5', 0, 87, '2', 0, 5, '5'],\n",
       " [1, 6, '4', 0, 77, '9', 0, 19, '4'],\n",
       " [1, 7, '1', 0, 41, '11', 0, 68, '11'],\n",
       " [1, 8, '12', 0, 20, '0', 0, 91, '0']]"
      ]
     },
     "execution_count": 16,
     "metadata": {},
     "output_type": "execute_result"
    }
   ],
   "source": [
    "ls.currentTourn.matchRec"
   ]
  },
  {
   "cell_type": "code",
   "execution_count": 17,
   "metadata": {},
   "outputs": [
    {
     "data": {
      "text/plain": [
       "[]"
      ]
     },
     "execution_count": 17,
     "metadata": {},
     "output_type": "execute_result"
    }
   ],
   "source": [
    "ls.tournRecs"
   ]
  },
  {
   "cell_type": "code",
   "execution_count": 18,
   "metadata": {},
   "outputs": [],
   "source": [
    "df = ls.playerSum.iloc[:,[0,-1]]\n"
   ]
  },
  {
   "cell_type": "code",
   "execution_count": 19,
   "metadata": {},
   "outputs": [
    {
     "data": {
      "text/html": [
       "<div>\n",
       "<style scoped>\n",
       "    .dataframe tbody tr th:only-of-type {\n",
       "        vertical-align: middle;\n",
       "    }\n",
       "\n",
       "    .dataframe tbody tr th {\n",
       "        vertical-align: top;\n",
       "    }\n",
       "\n",
       "    .dataframe thead th {\n",
       "        text-align: right;\n",
       "    }\n",
       "</style>\n",
       "<table border=\"1\" class=\"dataframe\">\n",
       "  <thead>\n",
       "    <tr style=\"text-align: right;\">\n",
       "      <th></th>\n",
       "      <th>name</th>\n",
       "      <th>variance</th>\n",
       "    </tr>\n",
       "  </thead>\n",
       "  <tbody>\n",
       "    <tr>\n",
       "      <th>5</th>\n",
       "      <td>5</td>\n",
       "      <td>10</td>\n",
       "    </tr>\n",
       "    <tr>\n",
       "      <th>11</th>\n",
       "      <td>11</td>\n",
       "      <td>10</td>\n",
       "    </tr>\n",
       "    <tr>\n",
       "      <th>3</th>\n",
       "      <td>3</td>\n",
       "      <td>10</td>\n",
       "    </tr>\n",
       "    <tr>\n",
       "      <th>0</th>\n",
       "      <td>0</td>\n",
       "      <td>10</td>\n",
       "    </tr>\n",
       "    <tr>\n",
       "      <th>8</th>\n",
       "      <td>8</td>\n",
       "      <td>10</td>\n",
       "    </tr>\n",
       "    <tr>\n",
       "      <th>4</th>\n",
       "      <td>4</td>\n",
       "      <td>10</td>\n",
       "    </tr>\n",
       "    <tr>\n",
       "      <th>10</th>\n",
       "      <td>10</td>\n",
       "      <td>10</td>\n",
       "    </tr>\n",
       "    <tr>\n",
       "      <th>13</th>\n",
       "      <td>13</td>\n",
       "      <td>10</td>\n",
       "    </tr>\n",
       "    <tr>\n",
       "      <th>6</th>\n",
       "      <td>6</td>\n",
       "      <td>10</td>\n",
       "    </tr>\n",
       "    <tr>\n",
       "      <th>15</th>\n",
       "      <td>15</td>\n",
       "      <td>10</td>\n",
       "    </tr>\n",
       "    <tr>\n",
       "      <th>7</th>\n",
       "      <td>7</td>\n",
       "      <td>10</td>\n",
       "    </tr>\n",
       "    <tr>\n",
       "      <th>1</th>\n",
       "      <td>1</td>\n",
       "      <td>10</td>\n",
       "    </tr>\n",
       "    <tr>\n",
       "      <th>12</th>\n",
       "      <td>12</td>\n",
       "      <td>10</td>\n",
       "    </tr>\n",
       "    <tr>\n",
       "      <th>9</th>\n",
       "      <td>9</td>\n",
       "      <td>10</td>\n",
       "    </tr>\n",
       "    <tr>\n",
       "      <th>14</th>\n",
       "      <td>14</td>\n",
       "      <td>10</td>\n",
       "    </tr>\n",
       "    <tr>\n",
       "      <th>2</th>\n",
       "      <td>2</td>\n",
       "      <td>10</td>\n",
       "    </tr>\n",
       "  </tbody>\n",
       "</table>\n",
       "</div>"
      ],
      "text/plain": [
       "   name  variance\n",
       "5     5        10\n",
       "11   11        10\n",
       "3     3        10\n",
       "0     0        10\n",
       "8     8        10\n",
       "4     4        10\n",
       "10   10        10\n",
       "13   13        10\n",
       "6     6        10\n",
       "15   15        10\n",
       "7     7        10\n",
       "1     1        10\n",
       "12   12        10\n",
       "9     9        10\n",
       "14   14        10\n",
       "2     2        10"
      ]
     },
     "execution_count": 19,
     "metadata": {},
     "output_type": "execute_result"
    }
   ],
   "source": [
    "df"
   ]
  },
  {
   "cell_type": "code",
   "execution_count": null,
   "metadata": {},
   "outputs": [],
   "source": []
  }
 ],
 "metadata": {
  "kernelspec": {
   "display_name": "Python 3",
   "language": "python",
   "name": "python3"
  },
  "language_info": {
   "codemirror_mode": {
    "name": "ipython",
    "version": 3
   },
   "file_extension": ".py",
   "mimetype": "text/x-python",
   "name": "python",
   "nbconvert_exporter": "python",
   "pygments_lexer": "ipython3",
   "version": "3.8.8"
  }
 },
 "nbformat": 4,
 "nbformat_minor": 4
}
