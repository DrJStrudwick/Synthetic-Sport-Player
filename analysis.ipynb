{
 "cells": [
  {
   "cell_type": "code",
   "execution_count": 8,
   "metadata": {},
   "outputs": [
    {
     "name": "stdout",
     "output_type": "stream",
     "text": [
      "Overwriting package/synthSportPlayer/utils.py\n"
     ]
    }
   ],
   "source": [
    "%%writefile package/synthSportPlayer/utils.py\n",
    "import pandas as pd\n",
    "def getPlayerHist(pid,df):\n",
    "    \"\"\"\n",
    "    A function to get all the matches of a given player that reside in the provided dataframe.\n",
    "    \n",
    "    Parameters\n",
    "    ----------\n",
    "    pid : str\n",
    "          The name of the player whose match results are to be searched for. This should be the players '.name' atrribute\n",
    "    df : DataFrame\n",
    "         The DataFrame that contains match results\n",
    "    \n",
    "    Returns\n",
    "    -------\n",
    "    pid_df : DataFrame\n",
    "             A DataFrame that contains match results that the given player has participated in.\n",
    "    \"\"\"\n",
    "    if type(pid)!=str:\n",
    "        raise TypeError(\"pid must be a str\")\n",
    "    if type(df)!=pd.core.frame.DataFrame:\n",
    "        raise TypeError(\"df must be a pandas dataframe\")\n",
    "        \n",
    "    tk1='player1'\n",
    "    tk2='player2'\n",
    "    other = [x for x in list(df.columns) if not(\"_\" in x)]\n",
    "    ext = list(set([y.split('_')[1] for y in [x for x in list(df.columns) if (\"_\" in x)]]))\n",
    "    \n",
    "    pid_df = df[(df[tk1+'_'+ext[0]]==pid)]\n",
    "    pid_df.winner_id=(pid_df[\"winner_id\"]==pid)\n",
    "    pid_df.rename(columns=dict(zip([tk1+\"_\"+x for x in ext]+[tk2+\"_\"+x for x in ext],\n",
    "                                   [\"player_\"+x for x in ext]+[\"opponent_\"+x for x in ext])),inplace=True)\n",
    "\n",
    "    pid2_df = df[(df[tk2+'_'+ext[0]]==pid)]\n",
    "    pid2_df.winner_id=(pid2_df[\"winner_id\"]==pid)\n",
    "    pid2_df.rename(columns=dict(zip([tk2+\"_\"+x for x in ext]+[tk1+\"_\"+x for x in ext],\n",
    "                                    [\"player_\"+x for x in ext]+[\"opponent_\"+x for x in ext])),inplace=True)\n",
    "\n",
    "    pid_df = pd.concat([pid_df,pid2_df])\n",
    "    pid_df.sort_values(by=[\"Tourn\",\"Round\",\"Match\"],ascending=[False,False,True],inplace=True)\n",
    "\n",
    "    return pid_df\n",
    "\n",
    "def getMatchUpData(pid1,pid2,df):\n",
    "    \"\"\"\n",
    "    A function to get all the matches between two players that reside in the provided dataframe.\n",
    "    \n",
    "    Parameters\n",
    "    ----------\n",
    "    pid1 : str\n",
    "          The name of a player whose match results are to be searched for. This should be the players '.name' atrribute\n",
    "    pid2 : str\n",
    "          The name of the other player whose match results are to be searched for. This should be the players '.name' atrribute\n",
    "    df : DataFrame\n",
    "         The DataFrame that contains match results\n",
    "    \n",
    "    Returns\n",
    "    -------\n",
    "    mu_df : DataFrame\n",
    "             A DataFrame that contains match results that the two player has participated in against each other.\n",
    "    \"\"\"\n",
    "    if type(pid1)!=str:\n",
    "        raise TypeError(\"pid1 must be a str\")\n",
    "    if type(pid2)!=str:\n",
    "        raise TypeError(\"pid2 must be a str\")\n",
    "    if type(df)!=pd.core.frame.DataFrame:\n",
    "        raise TypeError(\"df must be a pandas dataframe\")\n",
    "        \n",
    "    mu_df = df[((df[\"player1_id\"]==pid1)&(df[\"player2_id\"]==pid2)|(df[\"player1_id\"]==pid2)&(df[\"player2_id\"]==pid1))]\n",
    "    mu_df.sort_values(by=[\"Tourn\",\"Round\",\"Match\"],ascending=[False,False,True],inplace=True)\n",
    "    return mu_df"
   ]
  },
  {
   "cell_type": "code",
   "execution_count": 17,
   "metadata": {},
   "outputs": [
    {
     "name": "stdout",
     "output_type": "stream",
     "text": [
      "Appending to package/synthSportPlayer/sportplayer.py\n"
     ]
    }
   ],
   "source": [
    "%%writefile -a package/synthSportPlayer/sportplayer.py\n",
    "\n",
    "class liveTourn(tournament):\n",
    "    \"\"\"\n",
    "    A class to facilitate live dashboarding of a season/tournament being played\n",
    "    \n",
    "    For further info see the parent class tournament.\n",
    "    \"\"\"\n",
    "    def __init__(self, playerList,pointPerRound=5):\n",
    "        super().__init__(playerList,pointPerRound)\n",
    "    \n",
    "    def playTourn(self):\n",
    "        \"\"\"\n",
    "        A method to play the tournament. \n",
    "        \n",
    "        Unlike it's parent class, when this method is called it will only play the next round of the tournament.\n",
    "        \n",
    "        Returns\n",
    "        -------\n",
    "        complete : bool\n",
    "                   A boolean to indicate if the tournament is now complete.\n",
    "        \"\"\"\n",
    "        if len(self.currentRound)>1:\n",
    "            nextRound = self.playRound()\n",
    "            self.currentRound = nextRound\n",
    "            self.round+=1\n",
    "            if len(self.currentRound)==1:\n",
    "                self.currentRound[0].gainPoints(self.round*self.points)\n",
    "                self.tournRes = pd.DataFrame(self.matchRec,columns=[\"Round\", \"Match\",\n",
    "                                                                    \"player1_id\",\"player1_rnkPoints\",\"player1_perform\",\n",
    "                                                                    \"player2_id\",\"player2_rnkPoints\",\"player2_perform\",\"winner_id\"])\n",
    "                return True\n",
    "            else:\n",
    "                return False\n",
    "        else:\n",
    "            return True\n",
    "        \n",
    "class liveSeason(season):\n",
    "    \"\"\"\n",
    "    A class to facilitate live dashboarding of a season/tournament being played\n",
    "    \n",
    "    For further info see the parent class season.\n",
    "    \n",
    "    Attributes\n",
    "    ----------\n",
    "    currentTourn : liveTourn\n",
    "                   The current tournament that is in progress\n",
    "    currentTournComplete : bool\n",
    "                           A boolean indicating if the current tournament is completed or not.\n",
    "    \"\"\"\n",
    "    def __init__(self,numPlayers=16,tournToPlay=20, players=None, playerSum=None):\n",
    "        super().__init__(numPlayers=16,tournToPlay=20, players=None, playerSum=None)\n",
    "        shuffle(self.players)\n",
    "        self.currentTourn = liveTourn(self.players)\n",
    "        self.currentTournComplete = False\n",
    "        \n",
    "    def playSeason(self):\n",
    "        \"\"\"\n",
    "        A method to play the season.\n",
    "        \n",
    "        Unlike it's parent class, when this method is called it will only play the next round of the tournament. But if the tournament is complete \n",
    "        it will update the records and move onto make the next tournament and play the first round.\n",
    "        \n",
    "        Returns\n",
    "        -------\n",
    "        complete : bool\n",
    "                   A boolean indicating if the season is completed or not.\n",
    "        \"\"\"\n",
    "        if self.week == self.tournsToPlay:\n",
    "            return True\n",
    "        else:\n",
    "            if self.currentTournComplete:\n",
    "                shuffle(self.players)\n",
    "                self.currentTourn = liveTourn(self.players)\n",
    "\n",
    "            self.currentTournComplete = self.currentTourn.playTourn()\n",
    "            if self.currentTournComplete:\n",
    "                self.gatherPoints()\n",
    "                self.tournRecs.append(self.currentTourn.tournRes)\n",
    "                self.week+=1\n",
    "            return False\n",
    "            "
   ]
  },
  {
   "cell_type": "code",
   "execution_count": 10,
   "metadata": {},
   "outputs": [],
   "source": [
    "%run package/synthSportPlayer/sportplayer.py"
   ]
  },
  {
   "cell_type": "code",
   "execution_count": 11,
   "metadata": {},
   "outputs": [],
   "source": [
    "%run package/synthSportPlayer/utils.py"
   ]
  },
  {
   "cell_type": "code",
   "execution_count": 12,
   "metadata": {},
   "outputs": [],
   "source": [
    "import pandas as pd"
   ]
  },
  {
   "cell_type": "code",
   "execution_count": 13,
   "metadata": {},
   "outputs": [],
   "source": [
    "for i in range(0,50):\n",
    "    x=pd.read_csv(\"seasonData/tournament_\"+str(i)+\".csv\")\n",
    "    x['Tourn']=i\n",
    "    if i==0:\n",
    "        df = x\n",
    "    else:\n",
    "        df = pd.concat((df,x))\n",
    "\n",
    "df.sort_values(by=[\"Tourn\",\"Round\",\"Match\"],ascending=[False,False,True],inplace=True)\n",
    "df=df[[list(df.columns)[-1]]+list(df.columns)[0:9]]"
   ]
  },
  {
   "cell_type": "code",
   "execution_count": 14,
   "metadata": {},
   "outputs": [],
   "source": [
    "# other = [x for x in list(df.columns) if not(\"_\" in x)]\n",
    "# ext = list(set([y.split('_')[1] for y in [x for x in list(df.columns) if (\"_\" in x)]]))"
   ]
  },
  {
   "cell_type": "code",
   "execution_count": 15,
   "metadata": {},
   "outputs": [
    {
     "ename": "TypeError",
     "evalue": "pid must be a str",
     "output_type": "error",
     "traceback": [
      "\u001b[0;31m---------------------------------------------------------------------------\u001b[0m",
      "\u001b[0;31mTypeError\u001b[0m                                 Traceback (most recent call last)",
      "\u001b[0;32m<ipython-input-15-99dda6104845>\u001b[0m in \u001b[0;36m<module>\u001b[0;34m\u001b[0m\n\u001b[0;32m----> 1\u001b[0;31m \u001b[0mgetPlayerHist\u001b[0m\u001b[0;34m(\u001b[0m\u001b[0;36m1\u001b[0m\u001b[0;34m,\u001b[0m\u001b[0mdf\u001b[0m\u001b[0;34m)\u001b[0m\u001b[0;34m.\u001b[0m\u001b[0mhead\u001b[0m\u001b[0;34m(\u001b[0m\u001b[0;34m)\u001b[0m\u001b[0;34m\u001b[0m\u001b[0;34m\u001b[0m\u001b[0m\n\u001b[0m",
      "\u001b[0;32m~/Documents/Project stuff/Research/Synthetic-Sport-Player/package/synthSportPlayer/utils.py\u001b[0m in \u001b[0;36mgetPlayerHist\u001b[0;34m(pid, df)\u001b[0m\n\u001b[1;32m     17\u001b[0m     \"\"\"\n\u001b[1;32m     18\u001b[0m     \u001b[0;32mif\u001b[0m \u001b[0mtype\u001b[0m\u001b[0;34m(\u001b[0m\u001b[0mpid\u001b[0m\u001b[0;34m)\u001b[0m\u001b[0;34m!=\u001b[0m\u001b[0mstr\u001b[0m\u001b[0;34m:\u001b[0m\u001b[0;34m\u001b[0m\u001b[0;34m\u001b[0m\u001b[0m\n\u001b[0;32m---> 19\u001b[0;31m         \u001b[0;32mraise\u001b[0m \u001b[0mTypeError\u001b[0m\u001b[0;34m(\u001b[0m\u001b[0;34m\"pid must be a str\"\u001b[0m\u001b[0;34m)\u001b[0m\u001b[0;34m\u001b[0m\u001b[0;34m\u001b[0m\u001b[0m\n\u001b[0m\u001b[1;32m     20\u001b[0m     \u001b[0;32mif\u001b[0m \u001b[0mtype\u001b[0m\u001b[0;34m(\u001b[0m\u001b[0mdf\u001b[0m\u001b[0;34m)\u001b[0m\u001b[0;34m!=\u001b[0m\u001b[0mpd\u001b[0m\u001b[0;34m.\u001b[0m\u001b[0mcore\u001b[0m\u001b[0;34m.\u001b[0m\u001b[0mframe\u001b[0m\u001b[0;34m.\u001b[0m\u001b[0mDataFrame\u001b[0m\u001b[0;34m:\u001b[0m\u001b[0;34m\u001b[0m\u001b[0;34m\u001b[0m\u001b[0m\n\u001b[1;32m     21\u001b[0m         \u001b[0;32mraise\u001b[0m \u001b[0mTypeError\u001b[0m\u001b[0;34m(\u001b[0m\u001b[0;34m\"df must be a pandas dataframe\"\u001b[0m\u001b[0;34m)\u001b[0m\u001b[0;34m\u001b[0m\u001b[0;34m\u001b[0m\u001b[0m\n",
      "\u001b[0;31mTypeError\u001b[0m: pid must be a str"
     ]
    }
   ],
   "source": [
    "getPlayerHist(1,df).head()"
   ]
  },
  {
   "cell_type": "code",
   "execution_count": 16,
   "metadata": {},
   "outputs": [
    {
     "ename": "TypeError",
     "evalue": "pid1 must be a str",
     "output_type": "error",
     "traceback": [
      "\u001b[0;31m---------------------------------------------------------------------------\u001b[0m",
      "\u001b[0;31mTypeError\u001b[0m                                 Traceback (most recent call last)",
      "\u001b[0;32m<ipython-input-16-ef7a71c77b3a>\u001b[0m in \u001b[0;36m<module>\u001b[0;34m\u001b[0m\n\u001b[0;32m----> 1\u001b[0;31m \u001b[0mgetMatchUpData\u001b[0m\u001b[0;34m(\u001b[0m\u001b[0;36m1\u001b[0m\u001b[0;34m,\u001b[0m\u001b[0;36m2\u001b[0m\u001b[0;34m,\u001b[0m\u001b[0mdf\u001b[0m\u001b[0;34m)\u001b[0m\u001b[0;34m\u001b[0m\u001b[0;34m\u001b[0m\u001b[0m\n\u001b[0m",
      "\u001b[0;32m~/Documents/Project stuff/Research/Synthetic-Sport-Player/package/synthSportPlayer/utils.py\u001b[0m in \u001b[0;36mgetMatchUpData\u001b[0;34m(pid1, pid2, df)\u001b[0m\n\u001b[1;32m     60\u001b[0m     \"\"\"\n\u001b[1;32m     61\u001b[0m     \u001b[0;32mif\u001b[0m \u001b[0mtype\u001b[0m\u001b[0;34m(\u001b[0m\u001b[0mpid1\u001b[0m\u001b[0;34m)\u001b[0m\u001b[0;34m!=\u001b[0m\u001b[0mstr\u001b[0m\u001b[0;34m:\u001b[0m\u001b[0;34m\u001b[0m\u001b[0;34m\u001b[0m\u001b[0m\n\u001b[0;32m---> 62\u001b[0;31m         \u001b[0;32mraise\u001b[0m \u001b[0mTypeError\u001b[0m\u001b[0;34m(\u001b[0m\u001b[0;34m\"pid1 must be a str\"\u001b[0m\u001b[0;34m)\u001b[0m\u001b[0;34m\u001b[0m\u001b[0;34m\u001b[0m\u001b[0m\n\u001b[0m\u001b[1;32m     63\u001b[0m     \u001b[0;32mif\u001b[0m \u001b[0mtype\u001b[0m\u001b[0;34m(\u001b[0m\u001b[0mpid2\u001b[0m\u001b[0;34m)\u001b[0m\u001b[0;34m!=\u001b[0m\u001b[0mstr\u001b[0m\u001b[0;34m:\u001b[0m\u001b[0;34m\u001b[0m\u001b[0;34m\u001b[0m\u001b[0m\n\u001b[1;32m     64\u001b[0m         \u001b[0;32mraise\u001b[0m \u001b[0mTypeError\u001b[0m\u001b[0;34m(\u001b[0m\u001b[0;34m\"pid2 must be a str\"\u001b[0m\u001b[0;34m)\u001b[0m\u001b[0;34m\u001b[0m\u001b[0;34m\u001b[0m\u001b[0m\n",
      "\u001b[0;31mTypeError\u001b[0m: pid1 must be a str"
     ]
    }
   ],
   "source": [
    "getMatchUpData(1,2,df)"
   ]
  },
  {
   "cell_type": "code",
   "execution_count": 10,
   "metadata": {},
   "outputs": [],
   "source": [
    "# pl,_=generatePlayers(16)\n",
    "# lt = liveTourn(pl)"
   ]
  },
  {
   "cell_type": "code",
   "execution_count": 11,
   "metadata": {},
   "outputs": [],
   "source": [
    "# lt.playTourn()"
   ]
  },
  {
   "cell_type": "code",
   "execution_count": 12,
   "metadata": {},
   "outputs": [],
   "source": [
    "# lt.matchRec"
   ]
  },
  {
   "cell_type": "code",
   "execution_count": 13,
   "metadata": {},
   "outputs": [],
   "source": [
    "ls=liveSeason()"
   ]
  },
  {
   "cell_type": "code",
   "execution_count": 14,
   "metadata": {},
   "outputs": [
    {
     "data": {
      "text/plain": [
       "['name', 'variance']"
      ]
     },
     "execution_count": 14,
     "metadata": {},
     "output_type": "execute_result"
    }
   ],
   "source": [
    "[x for x in ls.playerSum.iloc[:,[0,-1]].columns]"
   ]
  },
  {
   "cell_type": "code",
   "execution_count": 15,
   "metadata": {},
   "outputs": [
    {
     "data": {
      "text/plain": [
       "False"
      ]
     },
     "execution_count": 15,
     "metadata": {},
     "output_type": "execute_result"
    }
   ],
   "source": [
    "ls.playSeason()"
   ]
  },
  {
   "cell_type": "code",
   "execution_count": 16,
   "metadata": {},
   "outputs": [
    {
     "data": {
      "text/plain": [
       "[[1, 1, '14', 0, 0, '6', 0, 53, '6'],\n",
       " [1, 2, '15', 0, 62, '8', 0, 65, '8'],\n",
       " [1, 3, '3', 0, 88, '7', 0, 40, '3'],\n",
       " [1, 4, '10', 0, 54, '13', 0, 49, '10'],\n",
       " [1, 5, '5', 0, 87, '2', 0, 5, '5'],\n",
       " [1, 6, '4', 0, 77, '9', 0, 19, '4'],\n",
       " [1, 7, '1', 0, 41, '11', 0, 68, '11'],\n",
       " [1, 8, '12', 0, 20, '0', 0, 91, '0']]"
      ]
     },
     "execution_count": 16,
     "metadata": {},
     "output_type": "execute_result"
    }
   ],
   "source": [
    "ls.currentTourn.matchRec"
   ]
  },
  {
   "cell_type": "code",
   "execution_count": 17,
   "metadata": {},
   "outputs": [
    {
     "data": {
      "text/plain": [
       "[]"
      ]
     },
     "execution_count": 17,
     "metadata": {},
     "output_type": "execute_result"
    }
   ],
   "source": [
    "ls.tournRecs"
   ]
  },
  {
   "cell_type": "code",
   "execution_count": 18,
   "metadata": {},
   "outputs": [],
   "source": [
    "df = ls.playerSum.iloc[:,[0,-1]]\n"
   ]
  },
  {
   "cell_type": "code",
   "execution_count": 19,
   "metadata": {},
   "outputs": [
    {
     "data": {
      "text/html": [
       "<div>\n",
       "<style scoped>\n",
       "    .dataframe tbody tr th:only-of-type {\n",
       "        vertical-align: middle;\n",
       "    }\n",
       "\n",
       "    .dataframe tbody tr th {\n",
       "        vertical-align: top;\n",
       "    }\n",
       "\n",
       "    .dataframe thead th {\n",
       "        text-align: right;\n",
       "    }\n",
       "</style>\n",
       "<table border=\"1\" class=\"dataframe\">\n",
       "  <thead>\n",
       "    <tr style=\"text-align: right;\">\n",
       "      <th></th>\n",
       "      <th>name</th>\n",
       "      <th>variance</th>\n",
       "    </tr>\n",
       "  </thead>\n",
       "  <tbody>\n",
       "    <tr>\n",
       "      <th>5</th>\n",
       "      <td>5</td>\n",
       "      <td>10</td>\n",
       "    </tr>\n",
       "    <tr>\n",
       "      <th>11</th>\n",
       "      <td>11</td>\n",
       "      <td>10</td>\n",
       "    </tr>\n",
       "    <tr>\n",
       "      <th>3</th>\n",
       "      <td>3</td>\n",
       "      <td>10</td>\n",
       "    </tr>\n",
       "    <tr>\n",
       "      <th>0</th>\n",
       "      <td>0</td>\n",
       "      <td>10</td>\n",
       "    </tr>\n",
       "    <tr>\n",
       "      <th>8</th>\n",
       "      <td>8</td>\n",
       "      <td>10</td>\n",
       "    </tr>\n",
       "    <tr>\n",
       "      <th>4</th>\n",
       "      <td>4</td>\n",
       "      <td>10</td>\n",
       "    </tr>\n",
       "    <tr>\n",
       "      <th>10</th>\n",
       "      <td>10</td>\n",
       "      <td>10</td>\n",
       "    </tr>\n",
       "    <tr>\n",
       "      <th>13</th>\n",
       "      <td>13</td>\n",
       "      <td>10</td>\n",
       "    </tr>\n",
       "    <tr>\n",
       "      <th>6</th>\n",
       "      <td>6</td>\n",
       "      <td>10</td>\n",
       "    </tr>\n",
       "    <tr>\n",
       "      <th>15</th>\n",
       "      <td>15</td>\n",
       "      <td>10</td>\n",
       "    </tr>\n",
       "    <tr>\n",
       "      <th>7</th>\n",
       "      <td>7</td>\n",
       "      <td>10</td>\n",
       "    </tr>\n",
       "    <tr>\n",
       "      <th>1</th>\n",
       "      <td>1</td>\n",
       "      <td>10</td>\n",
       "    </tr>\n",
       "    <tr>\n",
       "      <th>12</th>\n",
       "      <td>12</td>\n",
       "      <td>10</td>\n",
       "    </tr>\n",
       "    <tr>\n",
       "      <th>9</th>\n",
       "      <td>9</td>\n",
       "      <td>10</td>\n",
       "    </tr>\n",
       "    <tr>\n",
       "      <th>14</th>\n",
       "      <td>14</td>\n",
       "      <td>10</td>\n",
       "    </tr>\n",
       "    <tr>\n",
       "      <th>2</th>\n",
       "      <td>2</td>\n",
       "      <td>10</td>\n",
       "    </tr>\n",
       "  </tbody>\n",
       "</table>\n",
       "</div>"
      ],
      "text/plain": [
       "   name  variance\n",
       "5     5        10\n",
       "11   11        10\n",
       "3     3        10\n",
       "0     0        10\n",
       "8     8        10\n",
       "4     4        10\n",
       "10   10        10\n",
       "13   13        10\n",
       "6     6        10\n",
       "15   15        10\n",
       "7     7        10\n",
       "1     1        10\n",
       "12   12        10\n",
       "9     9        10\n",
       "14   14        10\n",
       "2     2        10"
      ]
     },
     "execution_count": 19,
     "metadata": {},
     "output_type": "execute_result"
    }
   ],
   "source": [
    "df"
   ]
  },
  {
   "cell_type": "code",
   "execution_count": null,
   "metadata": {},
   "outputs": [],
   "source": []
  }
 ],
 "metadata": {
  "kernelspec": {
   "display_name": "Python 3",
   "language": "python",
   "name": "python3"
  },
  "language_info": {
   "codemirror_mode": {
    "name": "ipython",
    "version": 3
   },
   "file_extension": ".py",
   "mimetype": "text/x-python",
   "name": "python",
   "nbconvert_exporter": "python",
   "pygments_lexer": "ipython3",
   "version": "3.8.8"
  }
 },
 "nbformat": 4,
 "nbformat_minor": 4
}
